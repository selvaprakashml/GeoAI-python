{
  "cells": [
    {
      "cell_type": "markdown",
      "metadata": {
        "id": "glV6I9gJ95d9"
      },
      "source": [
        "# Building Footprint Extraction for the USA\n",
        "\n",
        "[![image](https://colab.research.google.com/assets/colab-badge.svg)](https://colab.research.google.com/github/opengeos/geoai/blob/main/docs/examples/building_footprints_usa.ipynb)\n",
        "\n",
        "## Install package\n",
        "To use the `geoai-py` package, ensure it is installed in your environment. Uncomment the command below if needed."
      ]
    },
    {
      "cell_type": "code",
      "execution_count": 1,
      "metadata": {
        "id": "CAqTFzfz95eJ"
      },
      "outputs": [],
      "source": [
        "# %pip install geoai-py"
      ]
    },
    {
      "cell_type": "markdown",
      "metadata": {
        "id": "hJIPHGIL95eN"
      },
      "source": [
        "## Import libraries"
      ]
    },
    {
      "cell_type": "code",
      "execution_count": null,
      "metadata": {
        "id": "ACoO_mVF95eP"
      },
      "outputs": [],
      "source": [
        "import geoai"
      ]
    },
    {
      "cell_type": "markdown",
      "metadata": {
        "id": "lD-ap-kH95eR"
      },
      "source": [
        "## Download sample data"
      ]
    },
    {
      "cell_type": "code",
      "execution_count": null,
      "metadata": {
        "id": "vnJZLQue95eS"
      },
      "outputs": [],
      "source": [
        "raster_url = (\n",
        "    \"https://huggingface.co/datasets/giswqs/geospatial/resolve/main/naip_train.tif\"\n",
        ")\n",
        "vector_url = \"https://huggingface.co/datasets/giswqs/geospatial/resolve/main/naip_train_buildings.geojson\""
      ]
    },
    {
      "cell_type": "code",
      "execution_count": null,
      "metadata": {
        "id": "EH_hwHBR95eT"
      },
      "outputs": [],
      "source": [
        "raster_path = geoai.download_file(raster_url)"
      ]
    },
    {
      "cell_type": "code",
      "execution_count": null,
      "metadata": {
        "id": "Z-wcM8Xq95eU"
      },
      "outputs": [],
      "source": [
        "vector_path = geoai.download_file(vector_url)"
      ]
    },
    {
      "cell_type": "markdown",
      "metadata": {
        "id": "dRHT-R8O95eX"
      },
      "source": [
        "## Initialize building footprint extraction pretrained model"
      ]
    },
    {
      "cell_type": "code",
      "execution_count": null,
      "metadata": {
        "id": "XCef4kEh95eY"
      },
      "outputs": [],
      "source": [
        "extractor = geoai.BuildingFootprintExtractor()"
      ]
    },
    {
      "cell_type": "markdown",
      "metadata": {
        "id": "b64xgpYO95eZ"
      },
      "source": [
        "## Extract building footprints\n",
        "\n",
        "### Option 1: Extract building footprints as raster"
      ]
    },
    {
      "cell_type": "code",
      "execution_count": null,
      "metadata": {
        "id": "U-FrIqa395ea"
      },
      "outputs": [],
      "source": [
        "mask_path = extractor.save_masks_as_geotiff(\n",
        "    raster_path=raster_path,\n",
        "    output_path=\"building_masks.tif\",\n",
        "    confidence_threshold=0.5,\n",
        "    mask_threshold=0.5,\n",
        ")"
      ]
    },
    {
      "cell_type": "markdown",
      "metadata": {
        "id": "OFA0qMlv95ec"
      },
      "source": [
        "Convert raster to vector"
      ]
    },
    {
      "cell_type": "code",
      "execution_count": null,
      "metadata": {
        "id": "u5bxTXbm95ed"
      },
      "outputs": [],
      "source": [
        "gdf = extractor.masks_to_vector(\n",
        "    mask_path=mask_path,\n",
        "    output_path=\"building_masks.geojson\",\n",
        "    simplify_tolerance=1.0,\n",
        ")"
      ]
    },
    {
      "cell_type": "markdown",
      "metadata": {
        "id": "VDeY2VOD95ed"
      },
      "source": [
        "### Option 2: Extract building footprints as vector"
      ]
    },
    {
      "cell_type": "code",
      "execution_count": null,
      "metadata": {
        "id": "RBw20b3f95ee"
      },
      "outputs": [],
      "source": [
        "output_path = \"naip_buildings.geojson\"\n",
        "gdf = extractor.process_raster(\n",
        "    raster_path,\n",
        "    output_path=\"buildings.geojson\",\n",
        "    batch_size=4,\n",
        "    confidence_threshold=0.5,\n",
        "    overlap=0.25,\n",
        "    nms_iou_threshold=0.5,\n",
        "    min_object_area=100,\n",
        "    max_object_area=None,\n",
        "    mask_threshold=0.5,\n",
        "    simplify_tolerance=1.0,\n",
        ")"
      ]
    },
    {
      "cell_type": "markdown",
      "metadata": {
        "id": "wO6PEowR95ef"
      },
      "source": [
        "## Regularize building footprints"
      ]
    },
    {
      "cell_type": "code",
      "execution_count": null,
      "metadata": {
        "id": "AXGbqf0095ef"
      },
      "outputs": [],
      "source": [
        "gdf_regularized = extractor.regularize_buildings(\n",
        "    gdf=gdf,\n",
        "    min_area=100,\n",
        "    angle_threshold=15,\n",
        "    orthogonality_threshold=0.3,\n",
        "    rectangularity_threshold=0.7,\n",
        ")"
      ]
    },
    {
      "cell_type": "markdown",
      "metadata": {
        "id": "SL87wj6F95ef"
      },
      "source": [
        "## Visualize building footprints"
      ]
    },
    {
      "cell_type": "code",
      "execution_count": null,
      "metadata": {
        "id": "o4rAYzUQ95eg"
      },
      "outputs": [],
      "source": [
        "gdf.head()"
      ]
    },
    {
      "cell_type": "code",
      "execution_count": null,
      "metadata": {
        "id": "HRMx4vXR95eh"
      },
      "outputs": [],
      "source": [
        "geoai.view_vector_interactive(\n",
        "    gdf, column=\"confidence\", layer_name=\"Building\", tiles=\"Satellite\"\n",
        ")"
      ]
    },
    {
      "cell_type": "code",
      "execution_count": null,
      "metadata": {
        "id": "43EqJtKd95eh"
      },
      "outputs": [],
      "source": [
        "geoai.view_vector_interactive(\n",
        "    gdf, column=\"confidence\", layer_name=\"Building\", tiles=raster_url\n",
        ")"
      ]
    },
    {
      "cell_type": "code",
      "execution_count": null,
      "metadata": {
        "id": "RCeDDtJG95ei"
      },
      "outputs": [],
      "source": [
        "geoai.view_vector_interactive(\n",
        "    gdf_regularized, column=\"confidence\", layer_name=\"Building\", tiles=raster_url\n",
        ")"
      ]
    },
    {
      "cell_type": "code",
      "execution_count": null,
      "metadata": {
        "id": "kARBL_7395ei"
      },
      "outputs": [],
      "source": [
        "extractor.visualize_results(raster_path, gdf, output_path=\"naip_buildings.png\")"
      ]
    },
    {
      "cell_type": "code",
      "execution_count": null,
      "metadata": {
        "id": "9qvjngJV95ej"
      },
      "outputs": [],
      "source": [
        "extractor.visualize_results(\n",
        "    raster_path, gdf_regularized, output_path=\"naip_buildings_regularized.png\"\n",
        ")"
      ]
    }
  ],
  "metadata": {
    "kernelspec": {
      "display_name": "geo",
      "language": "python",
      "name": "python3"
    },
    "language_info": {
      "codemirror_mode": {
        "name": "ipython",
        "version": 3
      },
      "file_extension": ".py",
      "mimetype": "text/x-python",
      "name": "python",
      "nbconvert_exporter": "python",
      "pygments_lexer": "ipython3",
      "version": "3.12.2"
    },
    "colab": {
      "provenance": []
    }
  },
  "nbformat": 4,
  "nbformat_minor": 0
}